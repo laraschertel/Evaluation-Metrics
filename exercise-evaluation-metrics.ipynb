{
 "cells": [
  {
   "cell_type": "markdown",
   "metadata": {
    "slideshow": {
     "slide_type": "-"
    }
   },
   "source": [
    "# ML-Fundamentals - Evaluation Metrics"
   ]
  },
  {
   "cell_type": "markdown",
   "metadata": {
    "slideshow": {
     "slide_type": "-"
    }
   },
   "source": [
    "## Table of Contents\n",
    "* [Introduction](#Introduction)\n",
    "* [Requirements](#Requirements) \n",
    "  * [Knowledge](#Knowledge) \n",
    "  * [Modules](#Python-Modules)\n",
    "* [Exercises](#Exercises)\n",
    " * [Confusion Matrix](#Confusion-Matrix)\n",
    " * [Accuracy](#Accuracy)\n",
    " * [Recall, Precision, Specificity and Fall-Out](#Recall,-Precision,-Specificity-and-Fall-Out)\n",
    " * [Balanced Accuracy](#Balanced-Accuracy)\n",
    " * [F1-Score](#F1-Score)\n",
    " * [ROC](#ROC)\n",
    " * [Kappa-Score](#Kappa-Score)\n",
    "* [Summary and Outlook](#Summary-and-Outlook)\n",
    "* [Literature](#Literature) \n",
    "* [Licenses](#Licenses)"
   ]
  },
  {
   "cell_type": "markdown",
   "metadata": {
    "slideshow": {
     "slide_type": "-"
    }
   },
   "source": [
    "## Introduction\n",
    "\n",
    "Building a model to predict continuous values (e.g. the temperature) or membership of a class is only useful for real world problems when we can measure how good (or bad) our model's predictions are. Therefore in this notebook, you will get to know (and implement) the most basic concepts of evaluating machine-learning models. "
   ]
  },
  {
   "cell_type": "markdown",
   "metadata": {
    "slideshow": {
     "slide_type": "-"
    }
   },
   "source": [
    "## Requirements\n",
    "### Knowledge\n",
    "\n",
    "You should have a basic knowledge of:\n",
    "- numpy\n",
    "\n",
    "Suitable sources for acquiring this knowledge are:\n",
    "- [numpy quickstart](https://docs.scipy.org/doc/numpy-1.15.1/user/quickstart.html)\n",
    "- [numpy slicing](https://docs.scipy.org/doc/numpy/reference/arrays.indexing.html)"
   ]
  },
  {
   "cell_type": "markdown",
   "metadata": {
    "slideshow": {
     "slide_type": "-"
    }
   },
   "source": [
    "### Python Modules\n",
    "\n",
    "By [deep.TEACHING](https://www.deep-teaching.org/) convention, all python modules needed to run the notebook are loaded centrally at the beginning. \n"
   ]
  },
  {
   "cell_type": "code",
   "execution_count": 1,
   "metadata": {
    "slideshow": {
     "slide_type": "-"
    }
   },
   "outputs": [],
   "source": [
    "# External Modules\n",
    "import numpy as np\n",
    "import hashlib\n",
    "import matplotlib.pyplot as plt"
   ]
  },
  {
   "cell_type": "code",
   "execution_count": 2,
   "metadata": {},
   "outputs": [],
   "source": [
    "def round_and_hash(value, precision=4, dtype=np.float32):\n",
    "    \"\"\" \n",
    "    Function to round and hash a scalar or numpy array of scalars.\n",
    "    Used to compare results with true solutions without spoiling the solution.\n",
    "    \"\"\"\n",
    "    rounded = np.array([value], dtype=dtype).round(decimals=precision)\n",
    "    hashed = hashlib.md5(rounded).hexdigest()\n",
    "    return hashed"
   ]
  },
  {
   "cell_type": "markdown",
   "metadata": {
    "slideshow": {
     "slide_type": "-"
    }
   },
   "source": [
    "## Exercises\n",
    "\n",
    "Hint: Implement all exercises in pure numpy."
   ]
  },
  {
   "cell_type": "markdown",
   "metadata": {},
   "source": [
    "### Confusion Matrix\n",
    "\n",
    "A confusion matrix is often used in binary classification tasks where we only have 2 classes (positive, negative), but it can also be constructed when we have more classes. The green elements mark the cells with correct classifications, e.g., the cell \"true positives\" contains the number of examples with label positive (class) that are classified correctly as positives.  \n",
    "For the multi classification problem, in some cases the classes can be more similar to one another (e.g. _C1_ might less different to _C2_ than to *C3*), which here is indicated by the intensity of the red color. \n",
    "\n",
    "![internet connection needed](https://gitlab.com/deep.TEACHING/educational-materials/raw/master/media/klaus/medical-image-classification/conf_matrix.png)"
   ]
  },
  {
   "cell_type": "markdown",
   "metadata": {},
   "source": [
    "The variable `y_pred` holds the labels for 20 predicted examples. The variable `y_true` contains the true labels. A `1` means *positive*, `0` means *negative*. If the first element in `y_pred` and the first element in `y_true` is both `1`, it is a *true positive* and so on...\n",
    "\n",
    "**Task:**\n",
    "\n",
    "Implement the function to calculate the confusion matrix for given data. You function should return a 2D-matrix:\n",
    "\n",
    "- `conf_matrix[0,0]` should contain the number of _true positives_\n",
    "- `conf_matrix[1,1]` should contain the number of _true negatives_\n",
    "- `conf_matrix[1,0]` should contain the number of _false negatives_\n",
    "- `conf_matrix[0,1]` should contain the number of _false positives_"
   ]
  },
  {
   "cell_type": "code",
   "execution_count": 3,
   "metadata": {},
   "outputs": [
    {
     "name": "stdout",
     "output_type": "stream",
     "text": [
      "[1 1 0 0 1 1 0 1 0 1 0 0 1 1 1 0 1 0 0 0]\n",
      "[0 1 1 0 0 0 0 0 0 1 1 0 0 0 1 1 0 0 0 1]\n"
     ]
    }
   ],
   "source": [
    "dataset_size = 20\n",
    "\n",
    "### use this for random data\n",
    "#y_pred = np.random.random_integers(low=0, high=1, size=dataset_size)\n",
    "#y_true = np.random.random_integers(low=0, high=1, size=dataset_size)\n",
    "\n",
    "### use this for fixed data (can be automatically evaluated with assertions)\n",
    "y_pred = np.array([+1, +1, -0, -0, +1, +1, -0, +1, -0, +1, -0, -0, +1, +1, +1, -0, +1, -0, -0, -0])\n",
    "y_true = np.array([-0, +1, +1, -0, -0, -0, -0, -0, -0, +1, +1, -0, -0, -0, +1, +1, -0, -0, -0, +1])\n",
    "\n",
    "print(y_pred)\n",
    "print(y_true)"
   ]
  },
  {
   "cell_type": "code",
   "execution_count": 4,
   "metadata": {},
   "outputs": [],
   "source": [
    "def get_confusion_matrix_2_classes(y_pred, y_true):\n",
    "    conf = np.ndarray([2,2], dtype=np.int32)\n",
    "    ### Your implementation here\n",
    "        \n",
    "    return conf"
   ]
  },
  {
   "cell_type": "code",
   "execution_count": 5,
   "metadata": {},
   "outputs": [],
   "source": [
    "### Solution\n",
    "def get_confusion_matrix_2_classes(y_pred, y_true):\n",
    "    conf = np.ndarray([2,2], dtype=np.int32)\n",
    "    \n",
    "    tp = y_true[(y_pred == 1) & (y_true == 1)]\n",
    "    conf[0,0] = len(tp)\n",
    "    \n",
    "    tn = y_true[(y_pred == -0) & (y_true == -0)]\n",
    "    conf[1,1] = len(tn)\n",
    "    \n",
    "    fp = y_true[(y_pred == 1) & (y_true == 0)]\n",
    "    conf[0,1] = len(fp)\n",
    "    \n",
    "    fn = y_true[(y_pred == 0) & (y_true == 1)]\n",
    "    conf[1,0] = len(fn)\n",
    "    \n",
    "    return conf"
   ]
  },
  {
   "cell_type": "code",
   "execution_count": 6,
   "metadata": {},
   "outputs": [
    {
     "name": "stdout",
     "output_type": "stream",
     "text": [
      "[[3 7]\n",
      " [4 6]]\n",
      "[['tp' 'fp']\n",
      " ['fn' 'tn']]\n"
     ]
    }
   ],
   "source": [
    "conf_matrix = get_confusion_matrix_2_classes(y_pred, y_true)\n",
    "print(conf_matrix)\n",
    "print(np.array([['tp', 'fp'], ['fn', 'tn']]))"
   ]
  },
  {
   "cell_type": "code",
   "execution_count": 7,
   "metadata": {},
   "outputs": [
    {
     "data": {
      "text/plain": [
       "'52ca17a7de673a7e78903f6a8ea91a0c'"
      ]
     },
     "execution_count": 7,
     "metadata": {},
     "output_type": "execute_result"
    }
   ],
   "source": [
    "round_and_hash(conf_matrix)"
   ]
  },
  {
   "cell_type": "code",
   "execution_count": 8,
   "metadata": {},
   "outputs": [],
   "source": [
    "assert round_and_hash(conf_matrix) == '52ca17a7de673a7e78903f6a8ea91a0c'"
   ]
  },
  {
   "cell_type": "markdown",
   "metadata": {},
   "source": [
    "#### Sidenote\n",
    "\n",
    "A confusion matrix contains nearly all relevant information about the predictions our model has made. However comparing two or more confusion matrices of different models directly is hardly practical. Especially for human readability / interpretability it is necessary to withdraw unnecessary information. The rest of this notebook is about metrics, which are directly comparable."
   ]
  },
  {
   "cell_type": "markdown",
   "metadata": {},
   "source": [
    "### Accuracy\n",
    "\n",
    "Probably the most intuitive metric is the accuracy. The accuracy specifies what percentage of our predictions are correct.\n",
    "\n",
    "For two classes:\n",
    "\n",
    "$$\n",
    "accuracy = \\frac{tp + tn}{tp + tn + fp + fn}\n",
    "$$\n",
    "\n",
    "And in the general case with $n$ classes:\n",
    "\n",
    "$$\n",
    "accuracy = \\frac{\\sum_{i=1}^n h_{ii}}{\\sum_{i=1}^n\\sum_{j=1}^n h_{ij}}\n",
    "$$\n",
    "\n",
    "**Task:**\n",
    "\n",
    "Implement the function to calculate the accuracy for the *two class case*, based on the confusion matrix.\n",
    "\n",
    "*Optional*:\n",
    "\n",
    "Implement your function to be able to process confusion matrices with $n$ classes, with $n \\ge 2$"
   ]
  },
  {
   "cell_type": "code",
   "execution_count": 9,
   "metadata": {},
   "outputs": [],
   "source": [
    "def calc_accuracy(conf_matrix):\n",
    "    \n",
    "    nenner = 0\n",
    "    zaehler = 0\n",
    "    \n",
    "    for i in range (len(conf_matrix)):\n",
    "        nenner = nenner + conf_matrix[i][i]\n",
    "        for j in range (len(conf_matrix)):\n",
    "            zaehler = zaehler + conf_matrix[i][j]\n",
    "        \n",
    "\n",
    "    return nenner/zaehler\n",
    "    \n",
    "    raise NotImplementedError()"
   ]
  },
  {
   "cell_type": "markdown",
   "metadata": {},
   "source": [
    "#### Sidenote\n",
    "\n",
    "Although the accuracy is very intuitive it might not be suitable for all classification tasks. Problems are:\n",
    "- Unbalanced classes. Class A has 1.000 times more examples than class B. A model which just classifies everything as Class A not even looking at any features reaches 99.9% accuracy but you can hardly even call it a machine-learning model.\n",
    "- When misclassification of a true-class-B sample as class A has severe consequences. Let class A be fish in the water and class B naval mines. When you are in a submarine, you'd want a naval mine detector to identify as many true mines as mines as possible. As a trade-off it may predict more fish as mines and achieve only 95% accuracy."
   ]
  },
  {
   "cell_type": "code",
   "execution_count": 10,
   "metadata": {},
   "outputs": [
    {
     "name": "stdout",
     "output_type": "stream",
     "text": [
      "0.45\n"
     ]
    }
   ],
   "source": [
    "accuracy = calc_accuracy(conf_matrix=conf_matrix)\n",
    "print(accuracy)\n",
    "\n",
    "assert round_and_hash(accuracy) == 'eaff9b69a66af6d38e881cfcce709153'"
   ]
  },
  {
   "cell_type": "markdown",
   "metadata": {},
   "source": [
    "### Recall, Precision, Specificity and Fall-Out\n",
    "\n",
    "The following metrics set a specific field of a binary class confusion matrix in relation to another field. They can be hard to memorize, but the picture might help with that.\n",
    "\n",
    "#### Acronyms:\n",
    "\n",
    "- Recall $\\frac{TP}{TP + FN}$: \n",
    "    - _sensivity, hit rate, true positive rate (**TPR**)_\n",
    "- Precision $\\frac{TP}{TP +FP}$:\n",
    "    - _positive predictive velue (**PPV**)_\n",
    "- Specificity $\\frac{TN}{TN + FP}$:\n",
    "    - _selectivity, true negative rate (**TNR**)_\n",
    "- Fall-out $\\frac{FP}{FP +TN}$:\n",
    "    - _false positive rate (**FPR**)_\n",
    "\n",
    "![internet connection needed](https://gitlab.com/deep.TEACHING/educational-materials/raw/dev/media/klaus/tpr_tnr_ppv_fpr_smaller.png)\n",
    "\n",
    "The other combinations _negative predictive value (NPV) $\\frac{TN}{TN + FN}$_, *false negative rate (FNR)* $\\frac{FN}{FN +TP}$, *false discovery rate* (**FDR**) $\\frac{FP}{FP + TP}$ and *false omission rate (**FOR**)* $\\frac{FN}{FN + TN}$  also exist, but the four mentioned in the heading and especially **recall** and **precision** are the ones mostly used."
   ]
  },
  {
   "cell_type": "markdown",
   "metadata": {},
   "source": [
    "### Balanced Accuracy\n",
    "\n",
    "Balanced accuracy should be favoured, when classes are unbalanced. It is calculated with:\n",
    "\n",
    "$$\n",
    "accuracy_{balanced} = \\frac{TPR + TNR}{2}\n",
    "$$\n",
    "\n",
    "**Task:**\n",
    "\n",
    "Consider the confusion matrix with `fish_and_mines_prediction`, which classifies all objects as fish (negative) and does not detect the mine (positive) as a mine (false negative).\n",
    " \n",
    "Implement the method to calculate $accuracy_{balanced}$.\n",
    "- What is the value for the accuracy?\n",
    "- What is the value for the balanced accuracy?"
   ]
  },
  {
   "cell_type": "code",
   "execution_count": 11,
   "metadata": {},
   "outputs": [
    {
     "name": "stdout",
     "output_type": "stream",
     "text": [
      "[[  1   0]\n",
      " [  1 999]]\n"
     ]
    }
   ],
   "source": [
    "fish_and_mines_prediction = np.array([[1,0],[1,999]])\n",
    "print(fish_and_mines_prediction)"
   ]
  },
  {
   "cell_type": "code",
   "execution_count": 12,
   "metadata": {},
   "outputs": [],
   "source": [
    "def calc_balanced_accuracy(conf_matrix):\n",
    "    tpr = conf_matrix[0][0] / (conf_matrix[0][0] + conf_matrix[1][0])\n",
    "    tnr = conf_matrix[1][1] / (conf_matrix[1][1] + conf_matrix[0][1])\n",
    "    return (tpr + tnr)/2\n",
    "    raise NotImplementedError()"
   ]
  },
  {
   "cell_type": "code",
   "execution_count": 13,
   "metadata": {},
   "outputs": [
    {
     "name": "stdout",
     "output_type": "stream",
     "text": [
      "accuracy:  0.999000999000999\n",
      "balanced accuracy:  0.75\n"
     ]
    }
   ],
   "source": [
    "acc = calc_accuracy(fish_and_mines_prediction)\n",
    "print('accuracy: ', acc)\n",
    "balanced_acc = calc_balanced_accuracy(fish_and_mines_prediction)\n",
    "print('balanced accuracy: ', balanced_acc)\n",
    "\n",
    "assert round_and_hash(balanced_acc) == '028aa23bdcb0575befa15321df88425e'"
   ]
  },
  {
   "cell_type": "markdown",
   "metadata": {},
   "source": [
    "### F1-Score\n",
    "\n",
    "Another well known measure is the F1-Score (also F-Score / F-Measure). It is defined as:\n",
    "\n",
    "$$\n",
    "F_1 = 2 \\cdot \\frac{precision \\cdot recall}{precision + recall}\n",
    "$$\n",
    "\n",
    "**Task:**\n",
    "\n",
    "- Implement the method to calculate the F1-Score\n",
    "- What is the F1-Score for `fish_and_mines_prediction` for class *mine* as positive class?\n",
    "- What is the F1-Score if we consider *fish* as positive class?\n",
    "    - For this task also implement the function to reverse the positives and negatives of a confusion matrix\n",
    "        - Do not reverse the matrix in-place. Create a new one and return it."
   ]
  },
  {
   "cell_type": "code",
   "execution_count": 14,
   "metadata": {},
   "outputs": [],
   "source": [
    "def calc_f1_score(conf_matrix):\n",
    "    tpr = conf_matrix[0][0] / (conf_matrix[0][0] + conf_matrix[1][0])\n",
    "    tnr = conf_matrix[1][1] / (conf_matrix[1][1] + conf_matrix[0][1])\n",
    "    return 2*(tpr * tnr)/(tpr + tnr)\n",
    "    raise NotImplementedError()\n",
    "    \n",
    "def reverse_pos_and_neg_of_conf_matrix(conf_matrix):\n",
    "    switched_matrix = np.array([[conf_matrix[1][1],conf_matrix[1][0]],[conf_matrix[0][1],conf_matrix[0][0]]])\n",
    "    print(switched_matrix)\n",
    "    return switched_matrix\n",
    "    raise NotImplementedError()"
   ]
  },
  {
   "cell_type": "code",
   "execution_count": 15,
   "metadata": {},
   "outputs": [
    {
     "name": "stdout",
     "output_type": "stream",
     "text": [
      "0.6666666666666666\n"
     ]
    }
   ],
   "source": [
    "f1score_mine = calc_f1_score(fish_and_mines_prediction)\n",
    "print(f1score_mine)\n",
    "\n",
    "assert round_and_hash(f1score_mine) == '6602c18aac262cc65614adb27ed43b2d'"
   ]
  },
  {
   "cell_type": "code",
   "execution_count": 17,
   "metadata": {},
   "outputs": [
    {
     "name": "stdout",
     "output_type": "stream",
     "text": [
      "[[999   1]\n",
      " [  0   1]]\n",
      "0.6666666666666666\n"
     ]
    }
   ],
   "source": [
    "fish_and_mines_reverse = reverse_pos_and_neg_of_conf_matrix(fish_and_mines_prediction)\n",
    "f1score_fish = calc_f1_score(fish_and_mines_reverse)\n",
    "print(f1score_fish)\n",
    "\n"
   ]
  },
  {
   "cell_type": "markdown",
   "metadata": {},
   "source": [
    "### ROC\n",
    "\n",
    "In binary classification, many models predict the probability of the positive class. Typically, the threshold to classify an example as positive is 0.5, i.e., if the predicted probability is larger then the threshold the example is classified as positive.   \n",
    "In the left-upper plot, the predicted probability density of the two (ground truth) classes are plotted. The left gaussian-shaped curve is the predicted probability density of the (true) negative class (ground truth). The right gaussian-shaped curve is the predicted probability density of the (true) positive  class (ground truth). The dashes vertical line corresponds to the threshold.\n",
    "If the threshold is increased (shifted to right) the ratio of true positives to the sum of true positives plus false negatives (positive predicted) increases. That increases the *precision* of the classification but the *recall* drops. \n",
    "\n",
    "If the threshold is decreased (shifted to the left) the number of true positives and false negative increases such that the ratio of true positives to the sum of true positives plus false negatives (positive predicted) decreases.\n",
    "For our example with the fish and mines: Adjusting the treshold to correctly find all true mines, will most likely also have the consequence, that some fish will also be predicted as mines.\n",
    "\n",
    "The Receiver-Operating-Characteristic-Curve is a method to visualize this. To do so, you adjust the threshold from 0 to 1 and predict the FPR and TPR. If your resulting curve is a straight line from the bottom left to the top right, then your model predicts completely random, which is the worst case. The better your model is, the higher the slope at the beginning.\n",
    "\n",
    "![internet connection needed](https://gitlab.com/deep.TEACHING/educational-materials/raw/dev/media/klaus/ROC_explanation.png)\n",
    "Picture inspired by \\[SHA15\\]\n",
    "\n",
    "#### AUC\n",
    "\n",
    "To summarize the ROC in a single number (in order to compare model), you calculate the Area-Under-The-Curve (AUC), which will be a value between 0.0 and 1.0. Though 0.5 is the worst (random predictions) model. A value less then 0.5 most likely means, you just accidentally switched some numbers.\n",
    "\n",
    "**Task:**\n",
    "\n",
    "Implement the method to calculate the ROC value. Assume we have 3 matrices which corresponds to three threshold values. The resulting plot should look similar to the picture above."
   ]
  },
  {
   "cell_type": "code",
   "execution_count": 18,
   "metadata": {},
   "outputs": [],
   "source": [
    "def calc_roc_value(conf_matrix):\n",
    "    tpr = conf_matrix[0][0] / (conf_matrix[0][0] + conf_matrix[1][0])\n",
    "    fpr = conf_matrix[0][1] / (conf_matrix[1][1] + conf_matrix[0][1])\n",
    "    return (tpr, fpr)\n",
    "    raise NotImplementedError()\n",
    "    "
   ]
  },
  {
   "cell_type": "code",
   "execution_count": 19,
   "metadata": {},
   "outputs": [
    {
     "name": "stdout",
     "output_type": "stream",
     "text": [
      "[0.01, 0.6, 0.99]\n",
      "[0.01, 0.4, 0.99]\n"
     ]
    }
   ],
   "source": [
    "cm1 = np.array([[1,1],[99,99]])\n",
    "cm2 = np.array([[60,40],[40,60]])\n",
    "cm3 = np.array([[99,99],[1,1]])\n",
    "cm1_roc = calc_roc_value(cm1)\n",
    "cm2_roc = calc_roc_value(cm2)\n",
    "cm3_roc = calc_roc_value(cm3)\n",
    "\n",
    "tprs = [cm1_roc[0], cm2_roc[0], cm3_roc[0]]\n",
    "fprs = [cm1_roc[1], cm2_roc[1], cm3_roc[1]]\n",
    "print(tprs)\n",
    "print(fprs)"
   ]
  },
  {
   "cell_type": "code",
   "execution_count": 20,
   "metadata": {},
   "outputs": [
    {
     "data": {
      "text/plain": [
       "<matplotlib.legend.Legend at 0x1eeaf5d52b0>"
      ]
     },
     "execution_count": 20,
     "metadata": {},
     "output_type": "execute_result"
    },
    {
     "data": {
      "image/png": "[encoded data removed]",
      "text/plain": [
       "<Figure size 432x288 with 1 Axes>"
      ]
     },
     "metadata": {
      "needs_background": "light"
     },
     "output_type": "display_data"
    }
   ],
   "source": [
    "plt.plot(np.linspace(0,1),np.linspace(0,1), label='random guess')\n",
    "plt.plot(fprs, tprs, label='ROC')\n",
    "plt.legend()"
   ]
  },
  {
   "cell_type": "code",
   "execution_count": 21,
   "metadata": {},
   "outputs": [
    {
     "name": "stdout",
     "output_type": "stream",
     "text": [
      "0.5 0.0\n"
     ]
    }
   ],
   "source": [
    "tpr, fpr = calc_roc_value(fish_and_mines_prediction)\n",
    "print(tpr, fpr)\n",
    "\n",
    "assert round_and_hash(tpr) == '38fc9331271e16f0e5586a0fc993be00'\n",
    "assert round_and_hash(fpr) == 'f1d3ff8443297732862df21dc4e57262'"
   ]
  },
  {
   "cell_type": "markdown",
   "metadata": {},
   "source": [
    "### Kappa Score\n",
    "\n",
    "The kappa score takes into consideration that some correct predictions were made by *'accident'*:\n",
    "\n",
    "\\begin{equation}\n",
    "\t\\kappa = \\frac{p_o - p_e}{1 - p_e},\n",
    "\\end{equation}\n",
    "with $p_o$ being the accuracy and $p_e$ the proportion of _'accidentally'_ correct classified examples. \n",
    "\n",
    "For the binary classification task $p_e$ is calculated with:\n",
    "\n",
    "\\begin{equation}\n",
    "\tp_e = \\frac{(TP + FN) \\cdot (TP + FP)}{b^2} + \\frac{(FN + TN) \\cdot (FP + TN)}{b^2}\n",
    "\\end{equation}\n",
    "with $b$ the total number of examples.\n",
    "\n",
    "And in general for \\(n\\) different classes:\n",
    "\n",
    "\\begin{equation}\n",
    "\tp_e = \\frac{1}{b^2} \\cdot \\sum_{i=1}^{n} h_{i+} \\cdot h_{+i} \n",
    "\\end{equation}\n",
    "\n",
    "with the sum of row $i$ $h_{i+}$ and the sum of column $i$ $h_{+i}$"
   ]
  },
  {
   "cell_type": "markdown",
   "metadata": {
    "slideshow": {
     "slide_type": "-"
    }
   },
   "source": [
    "## Summary and Outlook\n",
    "\n",
    "In this notebook, you learned about a whole host of metrics to evaluate the quality of your predictions.\n",
    "\n",
    "* You learned how to set up a confusion matrix and distinguish between true positives, false positives, false negatives and true negatives\n",
    "* You learned how to compute metrics such as precision and recall from the confusion matrix\n",
    "* You learned how to address the problem of imbalanced classes\n",
    "* You learned to visualize the quality of your model at different settings using a ROC curve\n",
    "\n",
    "A key takeaway is to always think about which metrics make a meaningful evaluation for each task. For example in the fish-and-mines problem, you'd gladly adjust your model to catch all the mines at the expense of classifying more mines as fish."
   ]
  },
  {
   "cell_type": "markdown",
   "metadata": {
    "slideshow": {
     "slide_type": "-"
    }
   },
   "source": [
    "## Literature\n",
    "\n",
    "<table>\n",
    "    <tr>\n",
    "        <td>\n",
    "            <a name=\"SHA15\"></a>[SHA15]\n",
    "        </td>\n",
    "        <td>\n",
    "            Unknown Wikipedia User with user name sharpr. Retrieved from https://en.wikipedia.org/wiki/Receiver_operating_characteristic#/media/File:ROC_curves.svg licensed under CC3: https://creativecommons.org/licenses/by-sa/3.0/\n",
    "        </td>\n",
    "    </tr>\n",
    "</table>"
   ]
  },
  {
   "cell_type": "markdown",
   "metadata": {
    "slideshow": {
     "slide_type": "-"
    }
   },
   "source": [
    "## Licenses\n",
    "\n",
    "### Notebook License (CC-BY-SA 4.0)\n",
    "\n",
    "*The following license applies to the complete notebook, including code cells. It does however not apply to any referenced external media (e.g., images).*\n",
    "\n",
    "Exercise: Evaluation Metrics <br/>\n",
    "by Klaus Strohmenger <br/>\n",
    "is licensed under a [Creative Commons Attribution-ShareAlike 4.0 International License](http://creativecommons.org/licenses/by-sa/4.0/).<br/>\n",
    "Based on a work at https://gitlab.com/deep.TEACHING.\n",
    "\n",
    "\n",
    "### Code License (MIT)\n",
    "\n",
    "*The following license only applies to code cells of the notebook.*\n",
    "\n",
    "Copyright 2019 Klaus Strohmenger\n",
    "\n",
    "Permission is hereby granted, free of charge, to any person obtaining a copy of this software and associated documentation files (the \"Software\"), to deal in the Software without restriction, including without limitation the rights to use, copy, modify, merge, publish, distribute, sublicense, and/or sell copies of the Software, and to permit persons to whom the Software is furnished to do so, subject to the following conditions:\n",
    "\n",
    "The above copyright notice and this permission notice shall be included in all copies or substantial portions of the Software.\n",
    "\n",
    "THE SOFTWARE IS PROVIDED \"AS IS\", WITHOUT WARRANTY OF ANY KIND, EXPRESS OR IMPLIED, INCLUDING BUT NOT LIMITED TO THE WARRANTIES OF MERCHANTABILITY, FITNESS FOR A PARTICULAR PURPOSE AND NONINFRINGEMENT. IN NO EVENT SHALL THE AUTHORS OR COPYRIGHT HOLDERS BE LIABLE FOR ANY CLAIM, DAMAGES OR OTHER LIABILITY, WHETHER IN AN ACTION OF CONTRACT, TORT OR OTHERWISE, ARISING FROM, OUT OF OR IN CONNECTION WITH THE SOFTWARE OR THE USE OR OTHER DEALINGS IN THE SOFTWARE."
   ]
  },
  {
   "cell_type": "code",
   "execution_count": null,
   "metadata": {},
   "outputs": [],
   "source": []
  }
 ],
 "metadata": {
  "celltoolbar": "Slideshow",
  "kernelspec": {
   "display_name": "Python 3 (ipykernel)",
   "language": "python",
   "name": "python3"
  },
  "language_info": {
   "codemirror_mode": {
    "name": "ipython",
    "version": 3
   },
   "file_extension": ".py",
   "mimetype": "text/x-python",
   "name": "python",
   "nbconvert_exporter": "python",
   "pygments_lexer": "ipython3",
   "version": "3.9.7"
  }
 },
 "nbformat": 4,
 "nbformat_minor": 2
}
